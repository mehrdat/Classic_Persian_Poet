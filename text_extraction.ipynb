{
 "cells": [
  {
   "cell_type": "code",
   "execution_count": 1,
   "metadata": {},
   "outputs": [],
   "source": [
    "import gzip\n",
    "import shutil\n",
    "\n",
    "\n",
    "with gzip.open('/excercise/august/poet/dump.sql.gz', 'rb') as f:\n",
    "     with open('ganjoor.sql', 'wb') as f_out:\n",
    "        shutil.copyfileobj(f, f_out)\n",
    "\n",
    "with open('ganjoor.sql', 'r') as file:\n",
    "    data = file.read()\n",
    "data\n"
   ]
  },
  {
   "cell_type": "code",
   "execution_count": 4,
   "metadata": {},
   "outputs": [],
   "source": [
    "import zipfile\n",
    "\n",
    "with zipfile.ZipFile('/Users/Mehr/Desktop/Python/excercise/august/poet/ganjoor-s3db-910612.zip', 'r') as zip_ref:\n",
    "    zip_ref.extractall('/Users/Mehr/Desktop/Python/excercise/august/poet/')"
   ]
  },
  {
   "cell_type": "code",
   "execution_count": 6,
   "metadata": {},
   "outputs": [
    {
     "name": "stdout",
     "output_type": "stream",
     "text": [
      "('cat',)\n",
      "('poem',)\n",
      "('poet',)\n",
      "('verse',)\n",
      "('fav',)\n",
      "('gil',)\n"
     ]
    }
   ],
   "source": [
    "import sqlite3\n",
    "import pandas as pd\n",
    "# Connect to the database\n",
    "conn = sqlite3.connect('/Users/Mehr/Desktop/Python/excercise/august/poet/ganjoor.s3db')\n",
    "cursor = conn.cursor()\n",
    "\n",
    "\n",
    "# Execute a query to fetch data (replace with your desired query)\n",
    "cursor.execute(\"SELECT name FROM sqlite_master WHERE type='table';\")\n",
    "rows = cursor.fetchall()\n",
    "\n",
    "# Print the fetched data\n",
    "for row in rows:\n",
    "    print(row)\n",
    "df = pd.read_sql_query(\"SELECT * FROM verse\", conn)\n",
    "\n",
    "# Close the connection\n",
    "conn.close()"
   ]
  },
  {
   "cell_type": "code",
   "execution_count": 7,
   "metadata": {},
   "outputs": [],
   "source": [
    "\n",
    "r=[]\n",
    "for text in df['text']:\n",
    "  for t in text.split():\n",
    "    r.append(t)"
   ]
  },
  {
   "cell_type": "code",
   "execution_count": 8,
   "metadata": {},
   "outputs": [],
   "source": [
    "all_text = ' '.join(word for text in df['text'] for word in text.split())"
   ]
  },
  {
   "cell_type": "code",
   "execution_count": 9,
   "metadata": {},
   "outputs": [
    {
     "data": {
      "text/plain": [
       "'جز نقش تو در نظر نیامد ما را جز کوی تو رهگذر نیامد ما را خواب ارچه خوش آمد همه را در عهدت حقا که به '"
      ]
     },
     "execution_count": 9,
     "metadata": {},
     "output_type": "execute_result"
    }
   ],
   "source": [
    "all_text[0:100]\n"
   ]
  },
  {
   "cell_type": "code",
   "execution_count": 16,
   "metadata": {},
   "outputs": [
    {
     "name": "stdout",
     "output_type": "stream",
     "text": [
      "word  7526140\n",
      "chars  33463219\n",
      "4.446265814879872\n"
     ]
    }
   ],
   "source": [
    "print(\"word \",len(all_text.split()))\n",
    "print(\"chars \",len(all_text))\n",
    "print(len(all_text)/len(all_text.split()))\n"
   ]
  },
  {
   "cell_type": "code",
   "execution_count": 19,
   "metadata": {},
   "outputs": [],
   "source": [
    "with open('input.txt','w+') as file:\n",
    "    file.write(all_text)\n"
   ]
  },
  {
   "cell_type": "code",
   "execution_count": 10,
   "metadata": {},
   "outputs": [
    {
     "name": "stdout",
     "output_type": "stream",
     "text": [
      "Cloning into 'nanoGPT'...\n",
      "remote: Enumerating objects: 682, done.\u001b[K\n",
      "remote: Total 682 (delta 0), reused 0 (delta 0), pack-reused 682\u001b[K\n",
      "Receiving objects: 100% (682/682), 952.47 KiB | 8.14 MiB/s, done.\n",
      "Resolving deltas: 100% (385/385), done.\n",
      "\u001b[33mhint: Using 'master' as the name for the initial branch. This default branch name\u001b[m\n",
      "\u001b[33mhint: is subject to change. To configure the initial branch name to use in all\u001b[m\n",
      "\u001b[33mhint: of your new repositories, which will suppress this warning, call:\u001b[m\n",
      "\u001b[33mhint: \u001b[m\n",
      "\u001b[33mhint: \tgit config --global init.defaultBranch <name>\u001b[m\n",
      "\u001b[33mhint: \u001b[m\n",
      "\u001b[33mhint: Names commonly chosen instead of 'master' are 'main', 'trunk' and\u001b[m\n",
      "\u001b[33mhint: 'development'. The just-created branch can be renamed via this command:\u001b[m\n",
      "\u001b[33mhint: \u001b[m\n",
      "\u001b[33mhint: \tgit branch -m <name>\u001b[m\n",
      "Initialized empty Git repository in /Users/Mehr/Desktop/Python/excercise/august/poet/.git/\n",
      "warning: adding embedded git repository: nanoGPT\n",
      "\u001b[33mhint: You've added another git repository inside your current repository.\u001b[m\n",
      "\u001b[33mhint: Clones of the outer repository will not contain the contents of\u001b[m\n",
      "\u001b[33mhint: the embedded repository and will not know how to obtain it.\u001b[m\n",
      "\u001b[33mhint: If you meant to add a submodule, use:\u001b[m\n",
      "\u001b[33mhint: \u001b[m\n",
      "\u001b[33mhint: \tgit submodule add <url> nanoGPT\u001b[m\n",
      "\u001b[33mhint: \u001b[m\n",
      "\u001b[33mhint: If you added this path by mistake, you can remove it from the\u001b[m\n",
      "\u001b[33mhint: index with:\u001b[m\n",
      "\u001b[33mhint: \u001b[m\n",
      "\u001b[33mhint: \tgit rm --cached nanoGPT\u001b[m\n",
      "\u001b[33mhint: \u001b[m\n",
      "\u001b[33mhint: See \"git help submodule\" for more information.\u001b[m\n",
      "[master (root-commit) 3d2278a] first commit\n",
      " 5 files changed, 112 insertions(+)\n",
      " create mode 100644 dump.sql.gz\n",
      " create mode 100644 ganjoor-s3db-910612.zip\n",
      " create mode 100644 ganjoor.s3db\n",
      " create mode 160000 nanoGPT\n",
      " create mode 100644 text_extraction.ipynb\n"
     ]
    }
   ],
   "source": [
    "!git clone https://github.com/karpathy/nanoGPT.git\n",
    "\n",
    "!cd nanoGPT\n",
    "\n",
    "!git init\n",
    "\n",
    "!git add .\n",
    "\n",
    "!git commit -m \"first commit\"\n",
    "\n",
    "!git branch -M main\n",
    "\n",
    "#!git remote add origin https://github.com/mehrdat/Classic_Persian_Poet.git\n",
    "\n",
    "#!git push -u origin main"
   ]
  },
  {
   "cell_type": "code",
   "execution_count": 20,
   "metadata": {},
   "outputs": [
    {
     "name": "stdout",
     "output_type": "stream",
     "text": [
      "length of dataset in characters: 33,463,219\n",
      "all the unique characters:  !()*+,-./012356789:=?CERV[]_aceghiklmorstuvwy{|©«¬­´»÷،؛؟ءآأؤإئابةتثجحخدذرزسشصضطظعغـفقكلمنهوىيًٌٍَُِّْٓٔ٠١٢٣٥٦٧٩٬ٰٱٲٶٹٻپچڈژکگڵںۀہۂی۔۰۱۲۳۴۵۶۷۸۹‌‍‎‏–‘’“”…‪‫‬⁮□ﷲﷺ\n",
      "vocab size: 162\n",
      "train has 30,116,897 tokens\n",
      "val has 3,346,322 tokens\n"
     ]
    }
   ],
   "source": [
    "%run /Users/Mehr/Desktop/Python/excercise/august/poet/data/shakespeare_char/prepare.py"
   ]
  },
  {
   "cell_type": "code",
   "execution_count": null,
   "metadata": {},
   "outputs": [],
   "source": []
  }
 ],
 "metadata": {
  "kernelspec": {
   "display_name": "me",
   "language": "python",
   "name": "python3"
  },
  "language_info": {
   "codemirror_mode": {
    "name": "ipython",
    "version": 3
   },
   "file_extension": ".py",
   "mimetype": "text/x-python",
   "name": "python",
   "nbconvert_exporter": "python",
   "pygments_lexer": "ipython3",
   "version": "3.11.7"
  }
 },
 "nbformat": 4,
 "nbformat_minor": 2
}
